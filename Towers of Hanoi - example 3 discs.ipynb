{
 "cells": [
  {
   "cell_type": "code",
   "execution_count": 2,
   "metadata": {},
   "outputs": [
    {
     "name": "stdout",
     "output_type": "stream",
     "text": [
      "moving disk from A to B\n",
      "moving disk from A to C\n",
      "moving disk from B to C\n",
      "moving disk from A to B\n",
      "moving disk from C to A\n",
      "moving disk from C to B\n",
      "moving disk from A to B\n"
     ]
    }
   ],
   "source": [
    "def moveTower(height,fromPole, toPole, withPole):\n",
    "    if height >= 1:\n",
    "        moveTower(height-1,fromPole,withPole,toPole)\n",
    "        moveDisk(fromPole,toPole)\n",
    "        moveTower(height-1,withPole,toPole,fromPole)\n",
    "\n",
    "def moveDisk(fp,tp):\n",
    "    print(\"moving disk from\",fp,\"to\",tp)\n",
    "\n",
    "moveTower(3,\"A\",\"B\",\"C\")\n",
    "\n",
    "#Starting position\n",
    "#A|321\n",
    "#B|\n",
    "#C|\n",
    "\n",
    "#moving disk from A to B\n",
    "#moving disk from A to C\n",
    "#moving disk from B to C\n",
    "#A|3\n",
    "#B| \n",
    "#C|21\n",
    "\n",
    "#moving disk from A to B\n",
    "#A|\n",
    "#B|3\n",
    "#C|21\n",
    "\n",
    "#A|1\n",
    "#B|32\n",
    "#C\n",
    "\n",
    "#A|\n",
    "#B|321\n",
    "#C|"
   ]
  }
 ],
 "metadata": {
  "kernelspec": {
   "display_name": "Python 3",
   "language": "python",
   "name": "python3"
  },
  "language_info": {
   "codemirror_mode": {
    "name": "ipython",
    "version": 3
   },
   "file_extension": ".py",
   "mimetype": "text/x-python",
   "name": "python",
   "nbconvert_exporter": "python",
   "pygments_lexer": "ipython3",
   "version": "3.6.5"
  }
 },
 "nbformat": 4,
 "nbformat_minor": 2
}
